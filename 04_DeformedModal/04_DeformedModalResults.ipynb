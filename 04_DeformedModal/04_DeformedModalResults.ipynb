{
 "cells": [
  {
   "cell_type": "markdown",
   "metadata": {},
   "source": [
    "# Deformed Wing - Structural Modal Analysis\n",
    "\n",
    "The following analysis shows the frequency of the structural modes for different wing tip deflections. The deformed shape has been obtained by running an aeroelastic simulation with the wing set at 7 degrees angle of attack, density=1.225 kg/m3, no gravity and varying the velocity between 1 and 60m/s. Note these are __not__ aeroelastic modes, just the modal frequencies of the deformed structure.\n",
    "\n",
    "Each of the text files available `sharpy_mode_skin_00.txt` shows the mode number (sorted in ascending frequency) and whether the case is with or without skin. The first column in the data is the wing tip vertical displacement in metres in an inertial frame aligned with the flow and the second the modal frequencies in rad/s.\n",
    "\n",
    "SHARPy discretisation:\n",
    "  * Structural elements: twice the number of elements as the original UM/NAST discretisation. For each UM/NAST element SHARPy uses 2.\n",
    "  * Chordwise panels: 16\n",
    "  * Wake: horseshoe panel\n",
    "\n",
    "Version Control:\n",
    "  * SHARPy version: v1.1.1-234-g37298ed-37298ed\n",
    "  * Pazy wing model version: 5036cbd0fca0765d2602a9bec8442e1c83c82212\n",
    "  * Test script version: b0b301c65eb909c609c33492dc3cb029460e6b0a"
   ]
  },
  {
   "cell_type": "code",
   "execution_count": 1,
   "metadata": {},
   "outputs": [],
   "source": [
    "import numpy as np\n",
    "import matplotlib.pyplot as plt\n",
    "import matplotlib as mpl\n",
    "import scipy.stats as stats\n",
    "mpl.rcParams['figure.dpi'] = 100\n",
    "mpl.rcParams['figure.figsize'] = (8, 6)\n",
    "%config InlineBackend.figure_format = 'retina'"
   ]
  },
  {
   "cell_type": "code",
   "execution_count": 2,
   "metadata": {},
   "outputs": [],
   "source": [
    "modal_analysis_skin = [np.loadtxt('./sharpy_mode_skin_{:02g}.txt'.format(i_mode)) for i_mode in range(5)]\n",
    "modal_analysis_noskin = [np.loadtxt('./sharpy_mode_noskin_{:02g}.txt'.format(i_mode)) for i_mode in range(5)]"
   ]
  },
  {
   "cell_type": "code",
   "execution_count": null,
   "metadata": {},
   "outputs": [],
   "source": [
    "fig, ax = plt.subplots(ncols=2, figsize=(15, 6))\n",
    "\n",
    "for i_mode in range(len(modal_analysis_skin)):\n",
    "    ax[0].plot(modal_analysis_skin[i_mode][:, 0] / 0.55, modal_analysis_skin[i_mode][:, 1] / 2 / np.pi)\n",
    "    ax[1].plot(modal_analysis_noskin[i_mode][:, 0] / 0.55, modal_analysis_noskin[i_mode][:, 1] / 2 / np.pi)\n",
    "    \n",
    "    \n",
    "for a in ax:\n",
    "    a.set_xlabel('Span-normalised wing tip displacement')\n",
    "    a.set_ylabel('Frequency, Hz')\n",
    "ax[0].set_title('Skin on')\n",
    "ax[1].set_title('Skin off');"
   ]
  },
  {
   "cell_type": "code",
   "execution_count": null,
   "metadata": {},
   "outputs": [],
   "source": []
  }
 ],
 "metadata": {
  "kernelspec": {
   "display_name": "Python 3",
   "language": "python",
   "name": "python3"
  },
  "language_info": {
   "codemirror_mode": {
    "name": "ipython",
    "version": 3
   },
   "file_extension": ".py",
   "mimetype": "text/x-python",
   "name": "python",
   "nbconvert_exporter": "python",
   "pygments_lexer": "ipython3",
   "version": "3.7.5"
  }
 },
 "nbformat": 4,
 "nbformat_minor": 4
}
